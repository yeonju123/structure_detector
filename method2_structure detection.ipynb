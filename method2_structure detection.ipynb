{
 "cells": [
  {
   "cell_type": "code",
   "execution_count": 1,
   "metadata": {},
   "outputs": [],
   "source": [
    "import pandas as pd\n",
    "import spacy\n",
    "nlp = spacy.load(\"en_core_web_sm\")\n",
    "from spacy import symbols"
   ]
  },
  {
   "cell_type": "code",
   "execution_count": 2,
   "metadata": {},
   "outputs": [],
   "source": [
    "def str_detector(tok, category):\n",
    "    for possible_sent in tok:    #tok is spacy nlp object\n",
    "        if possible_sent.dep == category:\n",
    "            return tok\n",
    "            print(f'sentence: {tok}\\n token: {possible_sent.text}' )"
   ]
  },
  {
   "cell_type": "code",
   "execution_count": 3,
   "metadata": {},
   "outputs": [],
   "source": [
    "def sent_picking(src_test, gold_data, category):\n",
    "    \"\"\"\n",
    "    This function loads both source language test set and its parallel target language gold set.\n",
    "    And it picks out sentence pairs with a certain structure.\n",
    "    The syntactic parser used in this function is based on spacy's english model, provided in https://spacy.io/models.\n",
    "    \"\"\"\n",
    "    \n",
    "    #read the source language file\n",
    "    df = pd.read_csv(src_test, sep = '\\t', header = None )\n",
    "    df[\"gold\"] = pd.read_csv(gold_data, sep = '\\t', header = None)\n",
    "    # Change the source language data to spacy's nlp object, which is a d-type of a spacy dependency parser argument.\n",
    "    df[\"src-nlp\"] = df[0].apply(nlp)\n",
    "    # find a structure in interest in a source document.\n",
    "    df['rel'] = df['src-nlp'].apply(str_detector, args = (category, ))\n",
    "    ef = pd.DataFrame()\n",
    "    ef = df[df[\"rel\"].notnull()]\n",
    "    print(f\"{len(ef)} number of relative clauses are detected\")\n",
    "    ef[\"gold\"].to_csv('gold_rel.csv', sep = '\\t', encoding = 'utf-8')\n",
    "    print('gold data is saved as gold_rel.csv.')\n",
    "    ef[0].to_csv('src-test_rel.csv', sep = '\\t', encoding = 'utf-8')\n",
    "    print('src-test data is saved as src-test_rel.csv')\n",
    "    \n",
    "    "
   ]
  },
  {
   "cell_type": "code",
   "execution_count": null,
   "metadata": {},
   "outputs": [],
   "source": []
  }
 ],
 "metadata": {
  "kernelspec": {
   "display_name": "Python 3",
   "language": "python",
   "name": "python3"
  },
  "language_info": {
   "codemirror_mode": {
    "name": "ipython",
    "version": 3
   },
   "file_extension": ".py",
   "mimetype": "text/x-python",
   "name": "python",
   "nbconvert_exporter": "python",
   "pygments_lexer": "ipython3",
   "version": "3.6.5"
  }
 },
 "nbformat": 4,
 "nbformat_minor": 2
}
